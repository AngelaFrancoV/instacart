{
 "cells": [
  {
   "cell_type": "code",
   "execution_count": 1,
   "id": "8adc3721-d61a-4187-a9e1-d022f4538920",
   "metadata": {},
   "outputs": [],
   "source": [
    "# Import libraries\n",
    "import pandas as pd\n",
    "import numpy as np\n",
    "import os"
   ]
  },
  {
   "cell_type": "code",
   "execution_count": 2,
   "id": "d43ead72-cb6e-4c6b-a550-a68f9aa9f12f",
   "metadata": {},
   "outputs": [],
   "source": [
    "#Import dataframe\n",
    "df_ords_prods_merge = pd.read_pickle(r'C:/Users/ab-fv/OneDrive/Documentos/Instacart Basket Analysis/02 Data/Prepared Data/all_combined.pkl')"
   ]
  },
  {
   "cell_type": "code",
   "execution_count": 3,
   "id": "09cea31f-d433-4b52-9cc8-97655aa22914",
   "metadata": {},
   "outputs": [],
   "source": [
    "# Create subset\n",
    "df = df_ords_prods_merge[:1000000]"
   ]
  },
  {
   "cell_type": "code",
   "execution_count": 4,
   "id": "3b1857bb-2b64-4f1b-ab64-20b474643bd3",
   "metadata": {},
   "outputs": [
    {
     "name": "stdout",
     "output_type": "stream",
     "text": [
      "Index(['order_id', 'user_id', 'eval_set', 'order_number', 'order_dow',\n",
      "       'order_hour_of_day', 'days_since_prior_order', 'first_order',\n",
      "       'product_id', 'add_to_cart_order', 'reordered', '_merge',\n",
      "       'product_name', 'aisle_id', 'department_id', 'prices', 'merge_flag'],\n",
      "      dtype='object')\n"
     ]
    }
   ],
   "source": [
    "print(df.columns)"
   ]
  },
  {
   "cell_type": "code",
   "execution_count": 4,
   "id": "375c6745-ba4f-4946-8ba3-8b08cd2ebaa6",
   "metadata": {},
   "outputs": [],
   "source": [
    "# Conditions\n",
    "def price_label(row):\n",
    "\n",
    "  if row['prices'] <= 5:\n",
    "    return 'Low-range product'\n",
    "  elif (row['prices'] > 5) and (row['prices'] <= 15):\n",
    "    return 'Mid-range product'\n",
    "  elif row['prices'] > 15:\n",
    "    return 'High range'\n",
    "  else: return 'Not enough data'"
   ]
  },
  {
   "cell_type": "code",
   "execution_count": 5,
   "id": "12f273cd-12cc-4e75-b56e-1eb349a55de1",
   "metadata": {},
   "outputs": [
    {
     "name": "stderr",
     "output_type": "stream",
     "text": [
      "C:\\Users\\ab-fv\\AppData\\Local\\Temp\\ipykernel_9272\\2420364775.py:2: SettingWithCopyWarning: \n",
      "A value is trying to be set on a copy of a slice from a DataFrame.\n",
      "Try using .loc[row_indexer,col_indexer] = value instead\n",
      "\n",
      "See the caveats in the documentation: https://pandas.pydata.org/pandas-docs/stable/user_guide/indexing.html#returning-a-view-versus-a-copy\n",
      "  df['price_range'] = df.apply(price_label, axis=1)\n"
     ]
    }
   ],
   "source": [
    "# Apply function\n",
    "df['price_range'] = df.apply(price_label, axis=1)"
   ]
  },
  {
   "cell_type": "code",
   "execution_count": 6,
   "id": "98e935b9-441f-4060-8445-b85bdf17f796",
   "metadata": {},
   "outputs": [
    {
     "data": {
      "text/plain": [
       "price_range\n",
       "Mid-range product    673183\n",
       "Low-range product    314392\n",
       "High range            12425\n",
       "Name: count, dtype: int64"
      ]
     },
     "execution_count": 6,
     "metadata": {},
     "output_type": "execute_result"
    }
   ],
   "source": [
    "df['price_range'].value_counts(dropna= False)"
   ]
  },
  {
   "cell_type": "code",
   "execution_count": 7,
   "id": "d69e667b-b588-4f54-a1c8-b30cdafa3347",
   "metadata": {},
   "outputs": [
    {
     "data": {
      "text/plain": [
       "99999.0"
      ]
     },
     "execution_count": 7,
     "metadata": {},
     "output_type": "execute_result"
    }
   ],
   "source": [
    "# Most expensive product\n",
    "df['prices'].max()"
   ]
  },
  {
   "cell_type": "code",
   "execution_count": 6,
   "id": "8adadaf1-a9b5-4f18-906b-18fec52482cb",
   "metadata": {},
   "outputs": [
    {
     "name": "stderr",
     "output_type": "stream",
     "text": [
      "C:\\Users\\ab-fv\\AppData\\Local\\Temp\\ipykernel_9272\\1169838859.py:1: SettingWithCopyWarning: \n",
      "A value is trying to be set on a copy of a slice from a DataFrame.\n",
      "Try using .loc[row_indexer,col_indexer] = value instead\n",
      "\n",
      "See the caveats in the documentation: https://pandas.pydata.org/pandas-docs/stable/user_guide/indexing.html#returning-a-view-versus-a-copy\n",
      "  df.loc[df['prices'] > 15, 'price_range_loc'] = 'High-range product'\n"
     ]
    }
   ],
   "source": [
    "df.loc[df['prices'] > 15, 'price_range_loc'] = 'High-range product'"
   ]
  },
  {
   "cell_type": "code",
   "execution_count": 7,
   "id": "922e8798-00f7-43a1-b22b-54d0320eda8a",
   "metadata": {},
   "outputs": [],
   "source": [
    "df.loc[(df['prices'] <= 15) & (df['prices'] > 5), 'price_range_loc'] = 'Mid-range product' "
   ]
  },
  {
   "cell_type": "code",
   "execution_count": 8,
   "id": "0aff6f80-fee0-41f9-92e3-6247e71d0b61",
   "metadata": {},
   "outputs": [],
   "source": [
    "df.loc[df['prices'] <= 5, 'price_range_loc'] = 'Low-range product'"
   ]
  },
  {
   "cell_type": "code",
   "execution_count": 11,
   "id": "cca5f789-be5e-435b-bfcf-3185ff3b90a6",
   "metadata": {},
   "outputs": [
    {
     "data": {
      "text/plain": [
       "price_range_loc\n",
       "Mid-range product     673183\n",
       "Low-range product     314392\n",
       "High-range product     12425\n",
       "Name: count, dtype: int64"
      ]
     },
     "execution_count": 11,
     "metadata": {},
     "output_type": "execute_result"
    }
   ],
   "source": [
    "df['price_range_loc'].value_counts(dropna = False)"
   ]
  },
  {
   "cell_type": "code",
   "execution_count": 18,
   "id": "33f235cf-8474-4ce7-ab38-92ac0c2a62b7",
   "metadata": {},
   "outputs": [
    {
     "data": {
      "text/plain": [
       "order_dow\n",
       "0    6204182\n",
       "1    5660230\n",
       "6    4496490\n",
       "2    4213830\n",
       "5    4205791\n",
       "3    3840534\n",
       "4    3783802\n",
       "Name: count, dtype: int64"
      ]
     },
     "execution_count": 18,
     "metadata": {},
     "output_type": "execute_result"
    }
   ],
   "source": [
    "# If-Statement for loops\n",
    "df_ords_prods_merge['order_dow'].value_counts(dropna = False)"
   ]
  },
  {
   "cell_type": "code",
   "execution_count": 3,
   "id": "2c430fb0-205c-4322-83ea-f34408c9ad27",
   "metadata": {},
   "outputs": [],
   "source": [
    "# Busiest day column\n",
    "result = []\n",
    "\n",
    "for value in df_ords_prods_merge[\"order_dow\"]:\n",
    "  if value == 0:\n",
    "    result.append(\"Busiest day\")\n",
    "  elif value == 4:\n",
    "    result.append(\"Least busy\")\n",
    "  else:\n",
    "    result.append(\"Regularly busy\")"
   ]
  },
  {
   "cell_type": "code",
   "execution_count": 4,
   "id": "9f94343e-aa35-46e8-b56b-13500560ed63",
   "metadata": {},
   "outputs": [
    {
     "data": {
      "text/plain": [
       "busiest_day\n",
       "Regularly busy    22416875\n",
       "Busiest day        6204182\n",
       "Least busy         3783802\n",
       "Name: count, dtype: int64"
      ]
     },
     "execution_count": 4,
     "metadata": {},
     "output_type": "execute_result"
    }
   ],
   "source": [
    "df_ords_prods_merge['busiest_day'] = result\n",
    "df_ords_prods_merge['busiest_day'].value_counts(dropna = False)"
   ]
  },
  {
   "cell_type": "code",
   "execution_count": null,
   "id": "ed1c7f62-fed9-46a0-b0d3-c8007ae77fa0",
   "metadata": {},
   "outputs": [],
   "source": [
    "# Task - Step 2\n",
    "  Creating Busiest Days column"
   ]
  },
  {
   "cell_type": "code",
   "execution_count": 5,
   "id": "dcb8ae6e-accc-4f2a-aa08-c60477db97d7",
   "metadata": {},
   "outputs": [
    {
     "data": {
      "text/plain": [
       "Busiest_days\n",
       "Regular busy    12916111\n",
       "Busiest days    11864412\n",
       "Slowest days     7624336\n",
       "Name: count, dtype: int64"
      ]
     },
     "execution_count": 5,
     "metadata": {},
     "output_type": "execute_result"
    }
   ],
   "source": [
    "result = []\n",
    "\n",
    "for value in df_ords_prods_merge[\"order_dow\"]:\n",
    "  if value in [0, 1]:\n",
    "    result.append(\"Busiest days\")\n",
    "  elif value in [3, 4]:\n",
    "    result.append(\"Slowest days\")\n",
    "  else:\n",
    "    result.append(\"Regular busy\")\n",
    "df_ords_prods_merge['Busiest_days'] = result\n",
    "df_ords_prods_merge['Busiest_days'].value_counts(dropna = False)"
   ]
  },
  {
   "cell_type": "code",
   "execution_count": null,
   "id": "7fe9f3d3-25ce-4112-ac1f-c889fdc83a7f",
   "metadata": {},
   "outputs": [],
   "source": [
    "# Step 3 Check values\n",
    "The busiest days is the sum of the values of Sunday and Monday, and the slowest days is the sum of Friday and Saturday"
   ]
  },
  {
   "cell_type": "code",
   "execution_count": 10,
   "id": "5a0083d2-4656-4db7-b186-ad6c73d57cee",
   "metadata": {},
   "outputs": [
    {
     "data": {
      "text/plain": [
       "order_hour_of_day\n",
       "10    2761760\n",
       "11    2736140\n",
       "14    2689136\n",
       "15    2662144\n",
       "13    2660954\n",
       "12    2618532\n",
       "16    2535202\n",
       "9     2454203\n",
       "17    2087654\n",
       "8     1718118\n",
       "18    1636502\n",
       "19    1258305\n",
       "20     976156\n",
       "7      891054\n",
       "21     795637\n",
       "22     634225\n",
       "23     402316\n",
       "6      290493\n",
       "0      218769\n",
       "1      115700\n",
       "5       87961\n",
       "2       69375\n",
       "4       53242\n",
       "3       51281\n",
       "Name: count, dtype: int64"
      ]
     },
     "execution_count": 10,
     "metadata": {},
     "output_type": "execute_result"
    }
   ],
   "source": [
    "# Step 4 Column busiest_period_of_day\n",
    "df_ords_prods_merge['order_hour_of_day'].value_counts(dropna = False)"
   ]
  },
  {
   "cell_type": "code",
   "execution_count": 7,
   "id": "018c2dcc-e248-4208-9d2c-1bf3e1b9ca4c",
   "metadata": {},
   "outputs": [],
   "source": [
    "df_ords_prods_merge.loc[df_ords_prods_merge['order_hour_of_day'].isin([10, 11, 14, 15, 13, 12, 16, 9]), 'busiest_period_loc'] = 'Most orders'\n",
    "df_ords_prods_merge.loc[df_ords_prods_merge['order_hour_of_day'].isin([17, 8, 18, 19, 20, 7, 21, 22]), 'busiest_period_loc'] = 'Average orders'\n",
    "df_ords_prods_merge.loc[df_ords_prods_merge['order_hour_of_day'].isin([23, 6, 0, 1, 5, 2, 4, 3]), 'busiest_period_loc'] = 'Fewest orders'"
   ]
  },
  {
   "cell_type": "code",
   "execution_count": 8,
   "id": "2c7b36ab-38cc-4f33-9a1b-0cef3381e1b0",
   "metadata": {},
   "outputs": [
    {
     "data": {
      "text/plain": [
       "busiest_period_loc\n",
       "Most orders       21118071\n",
       "Average orders     9997651\n",
       "Fewest orders      1289137\n",
       "Name: count, dtype: int64"
      ]
     },
     "execution_count": 8,
     "metadata": {},
     "output_type": "execute_result"
    }
   ],
   "source": [
    "# Step 5 - Print frequency\n",
    "df_ords_prods_merge['busiest_period_loc'].value_counts(dropna=False)"
   ]
  },
  {
   "cell_type": "code",
   "execution_count": 9,
   "id": "574d3d1f-aabd-4770-9a13-669390423a89",
   "metadata": {},
   "outputs": [],
   "source": [
    "# Step 7 - Export file in pickle format\n",
    "df_ords_prods_merge.to_pickle(r'C:/Users/ab-fv/OneDrive/Documentos/Instacart Basket Analysis/02 Data/Prepared Data/ords_prods_new_columns.pkl')"
   ]
  },
  {
   "cell_type": "code",
   "execution_count": null,
   "id": "14cadda5-c739-4720-81c9-63b6725f08d3",
   "metadata": {},
   "outputs": [],
   "source": []
  }
 ],
 "metadata": {
  "kernelspec": {
   "display_name": "Python 3 (ipykernel)",
   "language": "python",
   "name": "python3"
  },
  "language_info": {
   "codemirror_mode": {
    "name": "ipython",
    "version": 3
   },
   "file_extension": ".py",
   "mimetype": "text/x-python",
   "name": "python",
   "nbconvert_exporter": "python",
   "pygments_lexer": "ipython3",
   "version": "3.12.7"
  }
 },
 "nbformat": 4,
 "nbformat_minor": 5
}
