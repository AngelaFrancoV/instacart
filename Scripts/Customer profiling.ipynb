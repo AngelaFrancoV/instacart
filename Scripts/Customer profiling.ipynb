{
 "cells": [
  {
   "cell_type": "code",
   "execution_count": 1,
   "id": "848bc6c5-0cab-4e22-a58c-e81ef67d4c38",
   "metadata": {},
   "outputs": [],
   "source": [
    "# Import libraries\n",
    "import pandas as pd\n",
    "import numpy as np\n",
    "import os\n",
    "import matplotlib.pyplot as plt\n",
    "import seaborn as sns\n",
    "import scipy"
   ]
  },
  {
   "cell_type": "code",
   "execution_count": 21,
   "id": "18d6d423-d69d-4cce-8242-6a574a6f8a6e",
   "metadata": {},
   "outputs": [
    {
     "ename": "MemoryError",
     "evalue": "",
     "output_type": "error",
     "traceback": [
      "\u001b[1;31m---------------------------------------------------------------------------\u001b[0m",
      "\u001b[1;31mMemoryError\u001b[0m                               Traceback (most recent call last)",
      "Cell \u001b[1;32mIn[21], line 2\u001b[0m\n\u001b[0;32m      1\u001b[0m \u001b[38;5;66;03m# Step 1 - Import dataframe\u001b[39;00m\n\u001b[1;32m----> 2\u001b[0m project \u001b[38;5;241m=\u001b[39m pd\u001b[38;5;241m.\u001b[39mread_pickle(\u001b[38;5;124mr\u001b[39m\u001b[38;5;124m'\u001b[39m\u001b[38;5;124mC:/Users/ab-fv/OneDrive/Documentos/Instacart Basket Analysis/02 Data/Prepared Data/mega_dataframe.pkl\u001b[39m\u001b[38;5;124m'\u001b[39m)\n",
      "File \u001b[1;32m~\\anaconda3\\Lib\\site-packages\\pandas\\io\\pickle.py:202\u001b[0m, in \u001b[0;36mread_pickle\u001b[1;34m(filepath_or_buffer, compression, storage_options)\u001b[0m\n\u001b[0;32m    199\u001b[0m     \u001b[38;5;28;01mwith\u001b[39;00m warnings\u001b[38;5;241m.\u001b[39mcatch_warnings(record\u001b[38;5;241m=\u001b[39m\u001b[38;5;28;01mTrue\u001b[39;00m):\n\u001b[0;32m    200\u001b[0m         \u001b[38;5;66;03m# We want to silence any warnings about, e.g. moved modules.\u001b[39;00m\n\u001b[0;32m    201\u001b[0m         warnings\u001b[38;5;241m.\u001b[39msimplefilter(\u001b[38;5;124m\"\u001b[39m\u001b[38;5;124mignore\u001b[39m\u001b[38;5;124m\"\u001b[39m, \u001b[38;5;167;01mWarning\u001b[39;00m)\n\u001b[1;32m--> 202\u001b[0m         \u001b[38;5;28;01mreturn\u001b[39;00m pickle\u001b[38;5;241m.\u001b[39mload(handles\u001b[38;5;241m.\u001b[39mhandle)\n\u001b[0;32m    203\u001b[0m \u001b[38;5;28;01mexcept\u001b[39;00m excs_to_catch:\n\u001b[0;32m    204\u001b[0m     \u001b[38;5;66;03m# e.g.\u001b[39;00m\n\u001b[0;32m    205\u001b[0m     \u001b[38;5;66;03m#  \"No module named 'pandas.core.sparse.series'\"\u001b[39;00m\n\u001b[0;32m    206\u001b[0m     \u001b[38;5;66;03m#  \"Can't get attribute '__nat_unpickle' on <module 'pandas._libs.tslib\"\u001b[39;00m\n\u001b[0;32m    207\u001b[0m     \u001b[38;5;28;01mreturn\u001b[39;00m pc\u001b[38;5;241m.\u001b[39mload(handles\u001b[38;5;241m.\u001b[39mhandle, encoding\u001b[38;5;241m=\u001b[39m\u001b[38;5;28;01mNone\u001b[39;00m)\n",
      "\u001b[1;31mMemoryError\u001b[0m: "
     ]
    }
   ],
   "source": [
    "# Step 1 - Import dataframe\n",
    "project = pd.read_pickle(r'C:/Users/ab-fv/OneDrive/Documentos/Instacart Basket Analysis/02 Data/Prepared Data/mega_dataframe.pkl')"
   ]
  },
  {
   "cell_type": "code",
   "execution_count": 13,
   "id": "1192bd3e-5c3f-4d2c-888b-e85255611906",
   "metadata": {},
   "outputs": [],
   "source": [
    "# Step 2 - Consider PII data. Removing Surname column\n",
    "project = project.drop(columns = ['Surname'])"
   ]
  },
  {
   "cell_type": "code",
   "execution_count": 14,
   "id": "14c84e3d-2af0-43f4-87be-7b2d919ebf29",
   "metadata": {},
   "outputs": [
    {
     "ename": "NameError",
     "evalue": "name 'project' is not defined",
     "output_type": "error",
     "traceback": [
      "\u001b[1;31m---------------------------------------------------------------------------\u001b[0m",
      "\u001b[1;31mNameError\u001b[0m                                 Traceback (most recent call last)",
      "Cell \u001b[1;32mIn[14], line 22\u001b[0m\n\u001b[0;32m      1\u001b[0m \u001b[38;5;66;03m# Step 3 - Create region column\u001b[39;00m\n\u001b[0;32m      2\u001b[0m region_map \u001b[38;5;241m=\u001b[39m {\n\u001b[0;32m      3\u001b[0m     \u001b[38;5;66;03m# Northeast\u001b[39;00m\n\u001b[0;32m      4\u001b[0m     \u001b[38;5;124m\"\u001b[39m\u001b[38;5;124mMaine\u001b[39m\u001b[38;5;124m\"\u001b[39m: \u001b[38;5;124m\"\u001b[39m\u001b[38;5;124mNortheast\u001b[39m\u001b[38;5;124m\"\u001b[39m, \u001b[38;5;124m\"\u001b[39m\u001b[38;5;124mNew Hampshire\u001b[39m\u001b[38;5;124m\"\u001b[39m: \u001b[38;5;124m\"\u001b[39m\u001b[38;5;124mNortheast\u001b[39m\u001b[38;5;124m\"\u001b[39m, \u001b[38;5;124m\"\u001b[39m\u001b[38;5;124mVermont\u001b[39m\u001b[38;5;124m\"\u001b[39m: \u001b[38;5;124m\"\u001b[39m\u001b[38;5;124mNortheast\u001b[39m\u001b[38;5;124m\"\u001b[39m,\n\u001b[1;32m   (...)\u001b[0m\n\u001b[0;32m     20\u001b[0m     \u001b[38;5;124m\"\u001b[39m\u001b[38;5;124mUtah\u001b[39m\u001b[38;5;124m\"\u001b[39m: \u001b[38;5;124m\"\u001b[39m\u001b[38;5;124mWest\u001b[39m\u001b[38;5;124m\"\u001b[39m, \u001b[38;5;124m\"\u001b[39m\u001b[38;5;124mColorado\u001b[39m\u001b[38;5;124m\"\u001b[39m: \u001b[38;5;124m\"\u001b[39m\u001b[38;5;124mWest\u001b[39m\u001b[38;5;124m\"\u001b[39m, \u001b[38;5;124m\"\u001b[39m\u001b[38;5;124mArizona\u001b[39m\u001b[38;5;124m\"\u001b[39m: \u001b[38;5;124m\"\u001b[39m\u001b[38;5;124mWest\u001b[39m\u001b[38;5;124m\"\u001b[39m, \u001b[38;5;124m\"\u001b[39m\u001b[38;5;124mNew Mexico\u001b[39m\u001b[38;5;124m\"\u001b[39m: \u001b[38;5;124m\"\u001b[39m\u001b[38;5;124mWest\u001b[39m\u001b[38;5;124m\"\u001b[39m,\n\u001b[0;32m     21\u001b[0m     \u001b[38;5;124m\"\u001b[39m\u001b[38;5;124mAlaska\u001b[39m\u001b[38;5;124m\"\u001b[39m: \u001b[38;5;124m\"\u001b[39m\u001b[38;5;124mWest\u001b[39m\u001b[38;5;124m\"\u001b[39m, \u001b[38;5;124m\"\u001b[39m\u001b[38;5;124mWashington\u001b[39m\u001b[38;5;124m\"\u001b[39m: \u001b[38;5;124m\"\u001b[39m\u001b[38;5;124mWest\u001b[39m\u001b[38;5;124m\"\u001b[39m, \u001b[38;5;124m\"\u001b[39m\u001b[38;5;124mOregon\u001b[39m\u001b[38;5;124m\"\u001b[39m: \u001b[38;5;124m\"\u001b[39m\u001b[38;5;124mWest\u001b[39m\u001b[38;5;124m\"\u001b[39m, \u001b[38;5;124m\"\u001b[39m\u001b[38;5;124mCalifornia\u001b[39m\u001b[38;5;124m\"\u001b[39m: \u001b[38;5;124m\"\u001b[39m\u001b[38;5;124mWest\u001b[39m\u001b[38;5;124m\"\u001b[39m, \u001b[38;5;124m\"\u001b[39m\u001b[38;5;124mHawaii\u001b[39m\u001b[38;5;124m\"\u001b[39m: \u001b[38;5;124m\"\u001b[39m\u001b[38;5;124mWest\u001b[39m\u001b[38;5;124m\"\u001b[39m,}\n\u001b[1;32m---> 22\u001b[0m project[\u001b[38;5;124m\"\u001b[39m\u001b[38;5;124mRegion\u001b[39m\u001b[38;5;124m\"\u001b[39m] \u001b[38;5;241m=\u001b[39m project[\u001b[38;5;124m\"\u001b[39m\u001b[38;5;124mSTATE\u001b[39m\u001b[38;5;124m\"\u001b[39m]\u001b[38;5;241m.\u001b[39mmap(region_map)\n",
      "\u001b[1;31mNameError\u001b[0m: name 'project' is not defined"
     ]
    }
   ],
   "source": [
    "# Step 3 - Create region column\n",
    "region_map = {\n",
    "    # Northeast\n",
    "    \"Maine\": \"Northeast\", \"New Hampshire\": \"Northeast\", \"Vermont\": \"Northeast\",\n",
    "    \"Massachusetts\": \"Northeast\", \"Rhode Island\": \"Northeast\", \"Connecticut\": \"Northeast\",\n",
    "    \"New York\": \"Northeast\", \"Pennsylvania\": \"Northeast\", \"New Jersey\": \"Northeast\",\n",
    "    # Midwest\n",
    "    \"Wisconsin\": \"Midwest\", \"Michigan\": \"Midwest\", \"Illinois\": \"Midwest\", \"Indiana\": \"Midwest\",\n",
    "    \"Ohio\": \"Midwest\", \"North Dakota\": \"Midwest\", \"South Dakota\": \"Midwest\",\n",
    "    \"Nebraska\": \"Midwest\", \"Kansas\": \"Midwest\", \"Minnesota\": \"Midwest\",\n",
    "    \"Iowa\": \"Midwest\", \"Missouri\": \"Midwest\",\n",
    "    # South\n",
    "    \"Delaware\": \"South\", \"Maryland\": \"South\", \"District of Columbia\": \"South\", \"DC\": \"South\",\n",
    "    \"Virginia\": \"South\", \"West Virginia\": \"South\", \"North Carolina\": \"South\", \"South Carolina\": \"South\",\n",
    "    \"Georgia\": \"South\", \"Florida\": \"South\", \"Kentucky\": \"South\", \"Tennessee\": \"South\",\n",
    "    \"Mississippi\": \"South\", \"Alabama\": \"South\", \"Oklahoma\": \"South\", \"Texas\": \"South\",\n",
    "    \"Arkansas\": \"South\", \"Louisiana\": \"South\",\n",
    "    # West\n",
    "    \"Idaho\": \"West\", \"Montana\": \"West\", \"Wyoming\": \"West\", \"Nevada\": \"West\",\n",
    "    \"Utah\": \"West\", \"Colorado\": \"West\", \"Arizona\": \"West\", \"New Mexico\": \"West\",\n",
    "    \"Alaska\": \"West\", \"Washington\": \"West\", \"Oregon\": \"West\", \"California\": \"West\", \"Hawaii\": \"West\",}\n",
    "project[\"Region\"] = project[\"STATE\"].map(region_map)"
   ]
  },
  {
   "cell_type": "code",
   "execution_count": 15,
   "id": "66f04daa-8d0e-4918-9324-161005a2db0f",
   "metadata": {},
   "outputs": [
    {
     "data": {
      "text/html": [
       "<div>\n",
       "<style scoped>\n",
       "    .dataframe tbody tr th:only-of-type {\n",
       "        vertical-align: middle;\n",
       "    }\n",
       "\n",
       "    .dataframe tbody tr th {\n",
       "        vertical-align: top;\n",
       "    }\n",
       "\n",
       "    .dataframe thead th {\n",
       "        text-align: right;\n",
       "    }\n",
       "</style>\n",
       "<table border=\"1\" class=\"dataframe\">\n",
       "  <thead>\n",
       "    <tr style=\"text-align: right;\">\n",
       "      <th></th>\n",
       "      <th>STATE</th>\n",
       "      <th>Region</th>\n",
       "    </tr>\n",
       "  </thead>\n",
       "  <tbody>\n",
       "    <tr>\n",
       "      <th>0</th>\n",
       "      <td>Alabama</td>\n",
       "      <td>South</td>\n",
       "    </tr>\n",
       "    <tr>\n",
       "      <th>1</th>\n",
       "      <td>Alabama</td>\n",
       "      <td>South</td>\n",
       "    </tr>\n",
       "    <tr>\n",
       "      <th>2</th>\n",
       "      <td>Alabama</td>\n",
       "      <td>South</td>\n",
       "    </tr>\n",
       "    <tr>\n",
       "      <th>3</th>\n",
       "      <td>Alabama</td>\n",
       "      <td>South</td>\n",
       "    </tr>\n",
       "    <tr>\n",
       "      <th>4</th>\n",
       "      <td>Alabama</td>\n",
       "      <td>South</td>\n",
       "    </tr>\n",
       "    <tr>\n",
       "      <th>5</th>\n",
       "      <td>Alabama</td>\n",
       "      <td>South</td>\n",
       "    </tr>\n",
       "    <tr>\n",
       "      <th>6</th>\n",
       "      <td>Alabama</td>\n",
       "      <td>South</td>\n",
       "    </tr>\n",
       "    <tr>\n",
       "      <th>7</th>\n",
       "      <td>Alabama</td>\n",
       "      <td>South</td>\n",
       "    </tr>\n",
       "    <tr>\n",
       "      <th>8</th>\n",
       "      <td>Alabama</td>\n",
       "      <td>South</td>\n",
       "    </tr>\n",
       "    <tr>\n",
       "      <th>9</th>\n",
       "      <td>Alabama</td>\n",
       "      <td>South</td>\n",
       "    </tr>\n",
       "  </tbody>\n",
       "</table>\n",
       "</div>"
      ],
      "text/plain": [
       "     STATE Region\n",
       "0  Alabama  South\n",
       "1  Alabama  South\n",
       "2  Alabama  South\n",
       "3  Alabama  South\n",
       "4  Alabama  South\n",
       "5  Alabama  South\n",
       "6  Alabama  South\n",
       "7  Alabama  South\n",
       "8  Alabama  South\n",
       "9  Alabama  South"
      ]
     },
     "execution_count": 15,
     "metadata": {},
     "output_type": "execute_result"
    }
   ],
   "source": [
    "project[[\"STATE\", \"Region\"]].head(10)  "
   ]
  },
  {
   "cell_type": "code",
   "execution_count": 24,
   "id": "ef533e7b-e1b5-42c4-9d85-9bdc4a558a09",
   "metadata": {},
   "outputs": [
    {
     "data": {
      "text/html": [
       "<div>\n",
       "<style scoped>\n",
       "    .dataframe tbody tr th:only-of-type {\n",
       "        vertical-align: middle;\n",
       "    }\n",
       "\n",
       "    .dataframe tbody tr th {\n",
       "        vertical-align: top;\n",
       "    }\n",
       "\n",
       "    .dataframe thead th {\n",
       "        text-align: right;\n",
       "    }\n",
       "</style>\n",
       "<table border=\"1\" class=\"dataframe\">\n",
       "  <thead>\n",
       "    <tr style=\"text-align: right;\">\n",
       "      <th></th>\n",
       "      <th>order_id</th>\n",
       "      <th>user_id</th>\n",
       "      <th>order_number</th>\n",
       "      <th>orders_day_of_week</th>\n",
       "      <th>order_hour_of_day</th>\n",
       "      <th>days_since_prior_order</th>\n",
       "      <th>first_order</th>\n",
       "      <th>product_id</th>\n",
       "      <th>add_to_cart_order</th>\n",
       "      <th>reordered</th>\n",
       "      <th>...</th>\n",
       "      <th>frequency_flag</th>\n",
       "      <th>Gender</th>\n",
       "      <th>STATE</th>\n",
       "      <th>Age</th>\n",
       "      <th>date_joined</th>\n",
       "      <th>n_dependants</th>\n",
       "      <th>fam_status</th>\n",
       "      <th>income</th>\n",
       "      <th>Region</th>\n",
       "      <th>spending_flag</th>\n",
       "    </tr>\n",
       "  </thead>\n",
       "  <tbody>\n",
       "    <tr>\n",
       "      <th>0</th>\n",
       "      <td>2539329</td>\n",
       "      <td>1</td>\n",
       "      <td>1</td>\n",
       "      <td>2</td>\n",
       "      <td>8</td>\n",
       "      <td>NaN</td>\n",
       "      <td>True</td>\n",
       "      <td>196</td>\n",
       "      <td>1</td>\n",
       "      <td>0</td>\n",
       "      <td>...</td>\n",
       "      <td>NaN</td>\n",
       "      <td>Female</td>\n",
       "      <td>Alabama</td>\n",
       "      <td>31</td>\n",
       "      <td>2/17/2019</td>\n",
       "      <td>3</td>\n",
       "      <td>married</td>\n",
       "      <td>40423</td>\n",
       "      <td>South</td>\n",
       "      <td>NaN</td>\n",
       "    </tr>\n",
       "    <tr>\n",
       "      <th>1</th>\n",
       "      <td>2539329</td>\n",
       "      <td>1</td>\n",
       "      <td>1</td>\n",
       "      <td>2</td>\n",
       "      <td>8</td>\n",
       "      <td>NaN</td>\n",
       "      <td>True</td>\n",
       "      <td>14084</td>\n",
       "      <td>2</td>\n",
       "      <td>0</td>\n",
       "      <td>...</td>\n",
       "      <td>Non-frequent customer</td>\n",
       "      <td>Female</td>\n",
       "      <td>Alabama</td>\n",
       "      <td>31</td>\n",
       "      <td>2/17/2019</td>\n",
       "      <td>3</td>\n",
       "      <td>married</td>\n",
       "      <td>40423</td>\n",
       "      <td>South</td>\n",
       "      <td>Low spender</td>\n",
       "    </tr>\n",
       "    <tr>\n",
       "      <th>2</th>\n",
       "      <td>2539329</td>\n",
       "      <td>1</td>\n",
       "      <td>1</td>\n",
       "      <td>2</td>\n",
       "      <td>8</td>\n",
       "      <td>NaN</td>\n",
       "      <td>True</td>\n",
       "      <td>12427</td>\n",
       "      <td>3</td>\n",
       "      <td>0</td>\n",
       "      <td>...</td>\n",
       "      <td>NaN</td>\n",
       "      <td>Female</td>\n",
       "      <td>Alabama</td>\n",
       "      <td>31</td>\n",
       "      <td>2/17/2019</td>\n",
       "      <td>3</td>\n",
       "      <td>married</td>\n",
       "      <td>40423</td>\n",
       "      <td>South</td>\n",
       "      <td>Low spender</td>\n",
       "    </tr>\n",
       "    <tr>\n",
       "      <th>3</th>\n",
       "      <td>2539329</td>\n",
       "      <td>1</td>\n",
       "      <td>1</td>\n",
       "      <td>2</td>\n",
       "      <td>8</td>\n",
       "      <td>NaN</td>\n",
       "      <td>True</td>\n",
       "      <td>26088</td>\n",
       "      <td>4</td>\n",
       "      <td>0</td>\n",
       "      <td>...</td>\n",
       "      <td>NaN</td>\n",
       "      <td>Female</td>\n",
       "      <td>Alabama</td>\n",
       "      <td>31</td>\n",
       "      <td>2/17/2019</td>\n",
       "      <td>3</td>\n",
       "      <td>married</td>\n",
       "      <td>40423</td>\n",
       "      <td>South</td>\n",
       "      <td>Low spender</td>\n",
       "    </tr>\n",
       "    <tr>\n",
       "      <th>4</th>\n",
       "      <td>2539329</td>\n",
       "      <td>1</td>\n",
       "      <td>1</td>\n",
       "      <td>2</td>\n",
       "      <td>8</td>\n",
       "      <td>NaN</td>\n",
       "      <td>True</td>\n",
       "      <td>26405</td>\n",
       "      <td>5</td>\n",
       "      <td>0</td>\n",
       "      <td>...</td>\n",
       "      <td>NaN</td>\n",
       "      <td>Female</td>\n",
       "      <td>Alabama</td>\n",
       "      <td>31</td>\n",
       "      <td>2/17/2019</td>\n",
       "      <td>3</td>\n",
       "      <td>married</td>\n",
       "      <td>40423</td>\n",
       "      <td>South</td>\n",
       "      <td>Low spender</td>\n",
       "    </tr>\n",
       "  </tbody>\n",
       "</table>\n",
       "<p>5 rows × 31 columns</p>\n",
       "</div>"
      ],
      "text/plain": [
       "   order_id  user_id  order_number  orders_day_of_week  order_hour_of_day  \\\n",
       "0   2539329        1             1                   2                  8   \n",
       "1   2539329        1             1                   2                  8   \n",
       "2   2539329        1             1                   2                  8   \n",
       "3   2539329        1             1                   2                  8   \n",
       "4   2539329        1             1                   2                  8   \n",
       "\n",
       "   days_since_prior_order  first_order  product_id  add_to_cart_order  \\\n",
       "0                     NaN         True         196                  1   \n",
       "1                     NaN         True       14084                  2   \n",
       "2                     NaN         True       12427                  3   \n",
       "3                     NaN         True       26088                  4   \n",
       "4                     NaN         True       26405                  5   \n",
       "\n",
       "   reordered  ...         frequency_flag  Gender    STATE  Age date_joined  \\\n",
       "0          0  ...                    NaN  Female  Alabama   31   2/17/2019   \n",
       "1          0  ...  Non-frequent customer  Female  Alabama   31   2/17/2019   \n",
       "2          0  ...                    NaN  Female  Alabama   31   2/17/2019   \n",
       "3          0  ...                    NaN  Female  Alabama   31   2/17/2019   \n",
       "4          0  ...                    NaN  Female  Alabama   31   2/17/2019   \n",
       "\n",
       "  n_dependants fam_status  income Region  spending_flag  \n",
       "0            3    married   40423  South            NaN  \n",
       "1            3    married   40423  South    Low spender  \n",
       "2            3    married   40423  South    Low spender  \n",
       "3            3    married   40423  South    Low spender  \n",
       "4            3    married   40423  South    Low spender  \n",
       "\n",
       "[5 rows x 31 columns]"
      ]
     },
     "execution_count": 24,
     "metadata": {},
     "output_type": "execute_result"
    }
   ],
   "source": [
    "# Spending habits between the different U.S. regions. Create spending flag because it wasn't saved in dataset\n",
    "project.loc[project['avg_price'] < 10, 'spending_flag'] = 'Low spender'\n",
    "project.loc[project['avg_price'] >= 10, 'spending_flag'] = 'High spender'\n",
    "project.head(5)"
   ]
  },
  {
   "cell_type": "code",
   "execution_count": 27,
   "id": "8d746606-d7de-45b3-af69-172c561454ee",
   "metadata": {},
   "outputs": [
    {
     "name": "stdout",
     "output_type": "stream",
     "text": [
      "      Region spending_flag  Count\n",
      "0    Midwest  High spender   1345\n",
      "1    Midwest   Low spender  50549\n",
      "2  Northeast  High spender   1083\n",
      "3  Northeast   Low spender  39752\n",
      "4      South  High spender   1569\n",
      "5      South   Low spender  60915\n",
      "6       West  High spender   1360\n",
      "7       West   Low spender  49636\n"
     ]
    }
   ],
   "source": [
    "spending_by_region = project.groupby(['Region', 'spending_flag']).size().reset_index(name='Count')\n",
    "print(spending_by_region)"
   ]
  },
  {
   "cell_type": "code",
   "execution_count": null,
   "id": "dcc45bb5-4819-45b4-a163-4763f1917856",
   "metadata": {},
   "outputs": [],
   "source": [
    "# There is no difference in spending habits. There are more low spender customers in general"
   ]
  },
  {
   "cell_type": "code",
   "execution_count": 38,
   "id": "614d8955-d48e-4cc7-996a-8af5f567b875",
   "metadata": {},
   "outputs": [],
   "source": [
    "# Export dataset\n",
    "project.to_pickle(r'C:/Users/ab-fv/OneDrive/Documentos/Instacart Basket Analysis/02 Data/Prepared Data/project2.pkl')"
   ]
  },
  {
   "cell_type": "code",
   "execution_count": 2,
   "id": "2460a81f-faaa-495f-b522-3db4d459e0a8",
   "metadata": {},
   "outputs": [
    {
     "ename": "KeyboardInterrupt",
     "evalue": "",
     "output_type": "error",
     "traceback": [
      "\u001b[1;31m---------------------------------------------------------------------------\u001b[0m",
      "\u001b[1;31mKeyboardInterrupt\u001b[0m                         Traceback (most recent call last)",
      "Cell \u001b[1;32mIn[2], line 2\u001b[0m\n\u001b[0;32m      1\u001b[0m \u001b[38;5;66;03m# Import dataframe\u001b[39;00m\n\u001b[1;32m----> 2\u001b[0m project \u001b[38;5;241m=\u001b[39m pd\u001b[38;5;241m.\u001b[39mread_pickle(\u001b[38;5;124mr\u001b[39m\u001b[38;5;124m'\u001b[39m\u001b[38;5;124mC:/Users/ab-fv/OneDrive/Documentos/Instacart Basket Analysis/02 Data/Prepared Data/project2.pkl\u001b[39m\u001b[38;5;124m'\u001b[39m)\n",
      "File \u001b[1;32m~\\anaconda3\\Lib\\site-packages\\pandas\\io\\pickle.py:202\u001b[0m, in \u001b[0;36mread_pickle\u001b[1;34m(filepath_or_buffer, compression, storage_options)\u001b[0m\n\u001b[0;32m    199\u001b[0m     \u001b[38;5;28;01mwith\u001b[39;00m warnings\u001b[38;5;241m.\u001b[39mcatch_warnings(record\u001b[38;5;241m=\u001b[39m\u001b[38;5;28;01mTrue\u001b[39;00m):\n\u001b[0;32m    200\u001b[0m         \u001b[38;5;66;03m# We want to silence any warnings about, e.g. moved modules.\u001b[39;00m\n\u001b[0;32m    201\u001b[0m         warnings\u001b[38;5;241m.\u001b[39msimplefilter(\u001b[38;5;124m\"\u001b[39m\u001b[38;5;124mignore\u001b[39m\u001b[38;5;124m\"\u001b[39m, \u001b[38;5;167;01mWarning\u001b[39;00m)\n\u001b[1;32m--> 202\u001b[0m         \u001b[38;5;28;01mreturn\u001b[39;00m pickle\u001b[38;5;241m.\u001b[39mload(handles\u001b[38;5;241m.\u001b[39mhandle)\n\u001b[0;32m    203\u001b[0m \u001b[38;5;28;01mexcept\u001b[39;00m excs_to_catch:\n\u001b[0;32m    204\u001b[0m     \u001b[38;5;66;03m# e.g.\u001b[39;00m\n\u001b[0;32m    205\u001b[0m     \u001b[38;5;66;03m#  \"No module named 'pandas.core.sparse.series'\"\u001b[39;00m\n\u001b[0;32m    206\u001b[0m     \u001b[38;5;66;03m#  \"Can't get attribute '__nat_unpickle' on <module 'pandas._libs.tslib\"\u001b[39;00m\n\u001b[0;32m    207\u001b[0m     \u001b[38;5;28;01mreturn\u001b[39;00m pc\u001b[38;5;241m.\u001b[39mload(handles\u001b[38;5;241m.\u001b[39mhandle, encoding\u001b[38;5;241m=\u001b[39m\u001b[38;5;28;01mNone\u001b[39;00m)\n",
      "File \u001b[1;32m~\\anaconda3\\Lib\\site-packages\\numpy\\core\\numeric.py:1851\u001b[0m, in \u001b[0;36m_frombuffer\u001b[1;34m(buf, dtype, shape, order)\u001b[0m\n\u001b[0;32m   1845\u001b[0m     \u001b[38;5;28;01mreturn\u001b[39;00m function(\u001b[38;5;241m*\u001b[39margs, \u001b[38;5;241m*\u001b[39m\u001b[38;5;241m*\u001b[39mkwargs)\n\u001b[0;32m   1848\u001b[0m _fromfunction_with_like \u001b[38;5;241m=\u001b[39m array_function_dispatch()(fromfunction)\n\u001b[1;32m-> 1851\u001b[0m \u001b[38;5;28;01mdef\u001b[39;00m \u001b[38;5;21m_frombuffer\u001b[39m(buf, dtype, shape, order):\n\u001b[0;32m   1852\u001b[0m     \u001b[38;5;28;01mreturn\u001b[39;00m frombuffer(buf, dtype\u001b[38;5;241m=\u001b[39mdtype)\u001b[38;5;241m.\u001b[39mreshape(shape, order\u001b[38;5;241m=\u001b[39morder)\n\u001b[0;32m   1855\u001b[0m \u001b[38;5;129m@set_module\u001b[39m(\u001b[38;5;124m'\u001b[39m\u001b[38;5;124mnumpy\u001b[39m\u001b[38;5;124m'\u001b[39m)\n\u001b[0;32m   1856\u001b[0m \u001b[38;5;28;01mdef\u001b[39;00m \u001b[38;5;21misscalar\u001b[39m(element):\n",
      "\u001b[1;31mKeyboardInterrupt\u001b[0m: "
     ]
    }
   ],
   "source": [
    "# Import dataframe\n",
    "project = pd.read_pickle(r'C:/Users/ab-fv/OneDrive/Documentos/Instacart Basket Analysis/02 Data/Prepared Data/project2.pkl')"
   ]
  },
  {
   "cell_type": "code",
   "execution_count": null,
   "id": "d183450f-c162-4f79-9d95-6c51645fec68",
   "metadata": {},
   "outputs": [],
   "source": [
    "# Step 4 - Exclusion flag for low-activity customers"
   ]
  },
  {
   "cell_type": "code",
   "execution_count": 3,
   "id": "e68fe760-eda0-407d-948b-bd91dd7e9154",
   "metadata": {},
   "outputs": [],
   "source": [
    "project['exclusion_flag'] = project['max_order'] < 5"
   ]
  },
  {
   "cell_type": "code",
   "execution_count": 5,
   "id": "d33e2924-1875-44d7-ba9a-6c88bfabac9a",
   "metadata": {},
   "outputs": [
    {
     "data": {
      "text/plain": [
       "exclusion_flag\n",
       "False    30964564\n",
       "True      1440295\n",
       "Name: count, dtype: int64"
      ]
     },
     "execution_count": 5,
     "metadata": {},
     "output_type": "execute_result"
    }
   ],
   "source": [
    "project['exclusion_flag'].value_counts()"
   ]
  },
  {
   "cell_type": "code",
   "execution_count": 6,
   "id": "1c884468-04db-42df-8d35-689dcfe24c5c",
   "metadata": {},
   "outputs": [],
   "source": [
    "# Excluding low-activity customers\n",
    "high_activity = project[project['exclusion_flag'] == False]"
   ]
  },
  {
   "cell_type": "code",
   "execution_count": 8,
   "id": "a4e2c980-626b-4f33-91e9-da625ca7fde4",
   "metadata": {},
   "outputs": [
    {
     "data": {
      "text/html": [
       "<div>\n",
       "<style scoped>\n",
       "    .dataframe tbody tr th:only-of-type {\n",
       "        vertical-align: middle;\n",
       "    }\n",
       "\n",
       "    .dataframe tbody tr th {\n",
       "        vertical-align: top;\n",
       "    }\n",
       "\n",
       "    .dataframe thead th {\n",
       "        text-align: right;\n",
       "    }\n",
       "</style>\n",
       "<table border=\"1\" class=\"dataframe\">\n",
       "  <thead>\n",
       "    <tr style=\"text-align: right;\">\n",
       "      <th></th>\n",
       "      <th>exclusion_flag</th>\n",
       "    </tr>\n",
       "  </thead>\n",
       "  <tbody>\n",
       "    <tr>\n",
       "      <th>0</th>\n",
       "      <td>False</td>\n",
       "    </tr>\n",
       "    <tr>\n",
       "      <th>1</th>\n",
       "      <td>False</td>\n",
       "    </tr>\n",
       "    <tr>\n",
       "      <th>2</th>\n",
       "      <td>False</td>\n",
       "    </tr>\n",
       "    <tr>\n",
       "      <th>3</th>\n",
       "      <td>False</td>\n",
       "    </tr>\n",
       "    <tr>\n",
       "      <th>4</th>\n",
       "      <td>False</td>\n",
       "    </tr>\n",
       "    <tr>\n",
       "      <th>5</th>\n",
       "      <td>False</td>\n",
       "    </tr>\n",
       "    <tr>\n",
       "      <th>6</th>\n",
       "      <td>False</td>\n",
       "    </tr>\n",
       "    <tr>\n",
       "      <th>7</th>\n",
       "      <td>False</td>\n",
       "    </tr>\n",
       "    <tr>\n",
       "      <th>8</th>\n",
       "      <td>False</td>\n",
       "    </tr>\n",
       "    <tr>\n",
       "      <th>9</th>\n",
       "      <td>False</td>\n",
       "    </tr>\n",
       "  </tbody>\n",
       "</table>\n",
       "</div>"
      ],
      "text/plain": [
       "   exclusion_flag\n",
       "0           False\n",
       "1           False\n",
       "2           False\n",
       "3           False\n",
       "4           False\n",
       "5           False\n",
       "6           False\n",
       "7           False\n",
       "8           False\n",
       "9           False"
      ]
     },
     "execution_count": 8,
     "metadata": {},
     "output_type": "execute_result"
    }
   ],
   "source": [
    "high_activity[['exclusion_flag']].head(10)  "
   ]
  },
  {
   "cell_type": "code",
   "execution_count": 9,
   "id": "12935f2a-9868-45dd-b674-1780c2e3489e",
   "metadata": {},
   "outputs": [],
   "source": [
    "# Export frame with high-activity customers\n",
    "high_activity.to_pickle(r'C:/Users/ab-fv/OneDrive/Documentos/Instacart Basket Analysis/02 Data/Prepared Data/high_activity.pkl')"
   ]
  },
  {
   "cell_type": "code",
   "execution_count": 2,
   "id": "00db0278-bd6a-4e52-a417-88a160734f6b",
   "metadata": {},
   "outputs": [],
   "source": [
    "# Import dataframe\n",
    "high_activity = pd.read_pickle(r'C:/Users/ab-fv/OneDrive/Documentos/Instacart Basket Analysis/02 Data/Prepared Data/high_activity.pkl')"
   ]
  },
  {
   "cell_type": "code",
   "execution_count": 3,
   "id": "8e1e5daa-57c6-44a8-8af2-c01fb0fe1e3c",
   "metadata": {},
   "outputs": [],
   "source": [
    "# Sampling data due to memory error\n",
    "np.random.seed(4)\n",
    "dev = np.random.rand(len(high_activity)) <= 0.8"
   ]
  },
  {
   "cell_type": "code",
   "execution_count": 4,
   "id": "3125d18a-1534-42b7-9ab5-49f6a6c5488f",
   "metadata": {},
   "outputs": [],
   "source": [
    "# Store 80% of sample\n",
    "ha_80 = high_activity[dev]"
   ]
  },
  {
   "cell_type": "code",
   "execution_count": 5,
   "id": "47b5a676-e1a6-4de2-964d-6cc7c639c435",
   "metadata": {},
   "outputs": [],
   "source": [
    "# Store 20% of sample\n",
    "ha_20 = high_activity[~dev]"
   ]
  },
  {
   "cell_type": "code",
   "execution_count": 6,
   "id": "cd5937bf-c807-45ee-9bf9-9a49157dcfaf",
   "metadata": {},
   "outputs": [],
   "source": [
    "# Step 5- Customer profiling\n",
    "def profile(row):\n",
    "\n",
    "    if (row['n_dependants'] == 0\n",
    "        and row['Age'] <= 25\n",
    "        and row['income'] >= 20000\n",
    "        and row['department_id'] in (1, 5, 19)):\n",
    "        return 'Single young adult'\n",
    "\n",
    "    if (row['n_dependants'] == 0\n",
    "        and row['Age'] <= 40\n",
    "        and row['income'] >= 50000\n",
    "        and row['department_id'] in (11, 13, 14)):\n",
    "        return 'Young professional'\n",
    "\n",
    "    if (row['n_dependants'] >= 1\n",
    "        and row['Age'] <= 40\n",
    "        and row['income'] >= 50000\n",
    "        and row['department_id'] != 18):\n",
    "        return 'Young parent'\n",
    "\n",
    "    if (row['n_dependants'] >= 1\n",
    "        and row['Age'] >= 70\n",
    "        and row['income'] >= 300000\n",
    "        and row['department_id'] in (11, 13, 14)):\n",
    "        return 'Retired customer'\n",
    "    else: return 'Other'"
   ]
  },
  {
   "cell_type": "code",
   "execution_count": 7,
   "id": "538b52cf-3777-4df0-980b-20c97428001c",
   "metadata": {},
   "outputs": [
    {
     "name": "stderr",
     "output_type": "stream",
     "text": [
      "C:\\Users\\ab-fv\\AppData\\Local\\Temp\\ipykernel_12640\\2698020230.py:1: SettingWithCopyWarning: \n",
      "A value is trying to be set on a copy of a slice from a DataFrame.\n",
      "Try using .loc[row_indexer,col_indexer] = value instead\n",
      "\n",
      "See the caveats in the documentation: https://pandas.pydata.org/pandas-docs/stable/user_guide/indexing.html#returning-a-view-versus-a-copy\n",
      "  ha_20['profile'] = ha_20.apply(profile, axis=1)\n"
     ]
    }
   ],
   "source": [
    "ha_20['profile'] = ha_20.apply(profile, axis=1)"
   ]
  },
  {
   "cell_type": "code",
   "execution_count": 8,
   "id": "dd6c3a60-9007-4e2d-b385-6e973d7d7762",
   "metadata": {},
   "outputs": [
    {
     "data": {
      "text/plain": [
       "<Axes: xlabel='profile'>"
      ]
     },
     "execution_count": 8,
     "metadata": {},
     "output_type": "execute_result"
    },
    {
     "data": {
      "image/png": "[encoded data removed]",
      "text/plain": [
       "<Figure size 640x480 with 1 Axes>"
      ]
     },
     "metadata": {},
     "output_type": "display_data"
    }
   ],
   "source": [
    "# Step 6 - Visualization of profiles\n",
    "ha_20['profile'].value_counts().plot.bar()"
   ]
  },
  {
   "cell_type": "code",
   "execution_count": 10,
   "id": "07c31489-ae38-4bb9-b981-cf2fee4fb053",
   "metadata": {},
   "outputs": [
    {
     "data": {
      "image/png": "[encoded data removed]",
      "text/plain": [
       "<Figure size 640x480 with 1 Axes>"
      ]
     },
     "metadata": {},
     "output_type": "display_data"
    }
   ],
   "source": [
    "# Save bar chart\n",
    "bar = ha_20['profile'].value_counts().plot.bar()"
   ]
  },
  {
   "cell_type": "code",
   "execution_count": 11,
   "id": "8ed48285-d006-424d-bc06-df04b550b6c8",
   "metadata": {},
   "outputs": [
    {
     "data": {
      "text/html": [
       "<div>\n",
       "<style scoped>\n",
       "    .dataframe tbody tr th:only-of-type {\n",
       "        vertical-align: middle;\n",
       "    }\n",
       "\n",
       "    .dataframe tbody tr th {\n",
       "        vertical-align: top;\n",
       "    }\n",
       "\n",
       "    .dataframe thead tr th {\n",
       "        text-align: left;\n",
       "    }\n",
       "\n",
       "    .dataframe thead tr:last-of-type th {\n",
       "        text-align: right;\n",
       "    }\n",
       "</style>\n",
       "<table border=\"1\" class=\"dataframe\">\n",
       "  <thead>\n",
       "    <tr>\n",
       "      <th></th>\n",
       "      <th colspan=\"3\" halign=\"left\">days_since_prior_order</th>\n",
       "    </tr>\n",
       "    <tr>\n",
       "      <th></th>\n",
       "      <th>mean</th>\n",
       "      <th>min</th>\n",
       "      <th>max</th>\n",
       "    </tr>\n",
       "    <tr>\n",
       "      <th>profile</th>\n",
       "      <th></th>\n",
       "      <th></th>\n",
       "      <th></th>\n",
       "    </tr>\n",
       "  </thead>\n",
       "  <tbody>\n",
       "    <tr>\n",
       "      <th>Other</th>\n",
       "      <td>10.833490</td>\n",
       "      <td>0.0</td>\n",
       "      <td>30.0</td>\n",
       "    </tr>\n",
       "    <tr>\n",
       "      <th>Retired customer</th>\n",
       "      <td>10.446602</td>\n",
       "      <td>0.0</td>\n",
       "      <td>30.0</td>\n",
       "    </tr>\n",
       "    <tr>\n",
       "      <th>Single young adult</th>\n",
       "      <td>11.258697</td>\n",
       "      <td>0.0</td>\n",
       "      <td>30.0</td>\n",
       "    </tr>\n",
       "    <tr>\n",
       "      <th>Young parent</th>\n",
       "      <td>10.711024</td>\n",
       "      <td>0.0</td>\n",
       "      <td>30.0</td>\n",
       "    </tr>\n",
       "    <tr>\n",
       "      <th>Young professional</th>\n",
       "      <td>10.922980</td>\n",
       "      <td>0.0</td>\n",
       "      <td>30.0</td>\n",
       "    </tr>\n",
       "  </tbody>\n",
       "</table>\n",
       "</div>"
      ],
      "text/plain": [
       "                   days_since_prior_order           \n",
       "                                     mean  min   max\n",
       "profile                                             \n",
       "Other                           10.833490  0.0  30.0\n",
       "Retired customer                10.446602  0.0  30.0\n",
       "Single young adult              11.258697  0.0  30.0\n",
       "Young parent                    10.711024  0.0  30.0\n",
       "Young professional              10.922980  0.0  30.0"
      ]
     },
     "execution_count": 11,
     "metadata": {},
     "output_type": "execute_result"
    }
   ],
   "source": [
    "# Step 7 Aggregate\n",
    "ha_20.groupby('profile').agg({'days_since_prior_order': ['mean', 'min', 'max']} , {'prices': ['mean', 'min', 'max']})"
   ]
  },
  {
   "cell_type": "code",
   "execution_count": 22,
   "id": "4a1a8549-ff9a-4a71-a35c-b78693aa0161",
   "metadata": {},
   "outputs": [
    {
     "name": "stderr",
     "output_type": "stream",
     "text": [
      "C:\\Users\\ab-fv\\AppData\\Local\\Temp\\ipykernel_12640\\2237514586.py:22: SettingWithCopyWarning: \n",
      "A value is trying to be set on a copy of a slice from a DataFrame.\n",
      "Try using .loc[row_indexer,col_indexer] = value instead\n",
      "\n",
      "See the caveats in the documentation: https://pandas.pydata.org/pandas-docs/stable/user_guide/indexing.html#returning-a-view-versus-a-copy\n",
      "  ha_20[\"Region\"] = ha_20[\"STATE\"].map(region_map)\n"
     ]
    }
   ],
   "source": [
    "# Re-do step 3\n",
    "region_map = {\n",
    "    # Northeast\n",
    "    \"Maine\": \"Northeast\", \"New Hampshire\": \"Northeast\", \"Vermont\": \"Northeast\",\n",
    "    \"Massachusetts\": \"Northeast\", \"Rhode Island\": \"Northeast\", \"Connecticut\": \"Northeast\",\n",
    "    \"New York\": \"Northeast\", \"Pennsylvania\": \"Northeast\", \"New Jersey\": \"Northeast\",\n",
    "    # Midwest\n",
    "    \"Wisconsin\": \"Midwest\", \"Michigan\": \"Midwest\", \"Illinois\": \"Midwest\", \"Indiana\": \"Midwest\",\n",
    "    \"Ohio\": \"Midwest\", \"North Dakota\": \"Midwest\", \"South Dakota\": \"Midwest\",\n",
    "    \"Nebraska\": \"Midwest\", \"Kansas\": \"Midwest\", \"Minnesota\": \"Midwest\",\n",
    "    \"Iowa\": \"Midwest\", \"Missouri\": \"Midwest\",\n",
    "    # South\n",
    "    \"Delaware\": \"South\", \"Maryland\": \"South\", \"District of Columbia\": \"South\", \"DC\": \"South\",\n",
    "    \"Virginia\": \"South\", \"West Virginia\": \"South\", \"North Carolina\": \"South\", \"South Carolina\": \"South\",\n",
    "    \"Georgia\": \"South\", \"Florida\": \"South\", \"Kentucky\": \"South\", \"Tennessee\": \"South\",\n",
    "    \"Mississippi\": \"South\", \"Alabama\": \"South\", \"Oklahoma\": \"South\", \"Texas\": \"South\",\n",
    "    \"Arkansas\": \"South\", \"Louisiana\": \"South\",\n",
    "    # West\n",
    "    \"Idaho\": \"West\", \"Montana\": \"West\", \"Wyoming\": \"West\", \"Nevada\": \"West\",\n",
    "    \"Utah\": \"West\", \"Colorado\": \"West\", \"Arizona\": \"West\", \"New Mexico\": \"West\",\n",
    "    \"Alaska\": \"West\", \"Washington\": \"West\", \"Oregon\": \"West\", \"California\": \"West\", \"Hawaii\": \"West\",}\n",
    "ha_20[\"Region\"] = ha_20[\"STATE\"].map(region_map)"
   ]
  },
  {
   "cell_type": "code",
   "execution_count": 23,
   "id": "6b0ac19b-329d-4106-b6af-e844f9d0a9e3",
   "metadata": {},
   "outputs": [
    {
     "data": {
      "text/html": [
       "<div>\n",
       "<style scoped>\n",
       "    .dataframe tbody tr th:only-of-type {\n",
       "        vertical-align: middle;\n",
       "    }\n",
       "\n",
       "    .dataframe tbody tr th {\n",
       "        vertical-align: top;\n",
       "    }\n",
       "\n",
       "    .dataframe thead th {\n",
       "        text-align: right;\n",
       "    }\n",
       "</style>\n",
       "<table border=\"1\" class=\"dataframe\">\n",
       "  <thead>\n",
       "    <tr style=\"text-align: right;\">\n",
       "      <th></th>\n",
       "      <th>STATE</th>\n",
       "      <th>Region</th>\n",
       "    </tr>\n",
       "  </thead>\n",
       "  <tbody>\n",
       "    <tr>\n",
       "      <th>0</th>\n",
       "      <td>Alabama</td>\n",
       "      <td>South</td>\n",
       "    </tr>\n",
       "    <tr>\n",
       "      <th>2</th>\n",
       "      <td>Alabama</td>\n",
       "      <td>South</td>\n",
       "    </tr>\n",
       "    <tr>\n",
       "      <th>6</th>\n",
       "      <td>Alabama</td>\n",
       "      <td>South</td>\n",
       "    </tr>\n",
       "    <tr>\n",
       "      <th>12</th>\n",
       "      <td>Alabama</td>\n",
       "      <td>South</td>\n",
       "    </tr>\n",
       "    <tr>\n",
       "      <th>13</th>\n",
       "      <td>Alabama</td>\n",
       "      <td>South</td>\n",
       "    </tr>\n",
       "    <tr>\n",
       "      <th>19</th>\n",
       "      <td>Alabama</td>\n",
       "      <td>South</td>\n",
       "    </tr>\n",
       "    <tr>\n",
       "      <th>21</th>\n",
       "      <td>Alabama</td>\n",
       "      <td>South</td>\n",
       "    </tr>\n",
       "    <tr>\n",
       "      <th>23</th>\n",
       "      <td>Alabama</td>\n",
       "      <td>South</td>\n",
       "    </tr>\n",
       "    <tr>\n",
       "      <th>31</th>\n",
       "      <td>Alabama</td>\n",
       "      <td>South</td>\n",
       "    </tr>\n",
       "    <tr>\n",
       "      <th>50</th>\n",
       "      <td>Alabama</td>\n",
       "      <td>South</td>\n",
       "    </tr>\n",
       "  </tbody>\n",
       "</table>\n",
       "</div>"
      ],
      "text/plain": [
       "      STATE Region\n",
       "0   Alabama  South\n",
       "2   Alabama  South\n",
       "6   Alabama  South\n",
       "12  Alabama  South\n",
       "13  Alabama  South\n",
       "19  Alabama  South\n",
       "21  Alabama  South\n",
       "23  Alabama  South\n",
       "31  Alabama  South\n",
       "50  Alabama  South"
      ]
     },
     "execution_count": 23,
     "metadata": {},
     "output_type": "execute_result"
    }
   ],
   "source": [
    "# Checking\n",
    "ha_20[[\"STATE\", \"Region\"]].head(10)  "
   ]
  },
  {
   "cell_type": "code",
   "execution_count": 28,
   "id": "2eb9b2af-879f-4d11-b862-f8a7724f18ec",
   "metadata": {},
   "outputs": [
    {
     "data": {
      "text/html": [
       "<div>\n",
       "<style scoped>\n",
       "    .dataframe tbody tr th:only-of-type {\n",
       "        vertical-align: middle;\n",
       "    }\n",
       "\n",
       "    .dataframe tbody tr th {\n",
       "        vertical-align: top;\n",
       "    }\n",
       "\n",
       "    .dataframe thead th {\n",
       "        text-align: right;\n",
       "    }\n",
       "</style>\n",
       "<table border=\"1\" class=\"dataframe\">\n",
       "  <thead>\n",
       "    <tr style=\"text-align: right;\">\n",
       "      <th></th>\n",
       "      <th>profile</th>\n",
       "      <th>regions</th>\n",
       "      <th>departments</th>\n",
       "    </tr>\n",
       "  </thead>\n",
       "  <tbody>\n",
       "    <tr>\n",
       "      <th>0</th>\n",
       "      <td>Other</td>\n",
       "      <td>[Midwest, Northeast, South, West]</td>\n",
       "      <td>[1, 2, 3, 4, 5, 6, 7, 8, 9, 10, 11, 12, 13, 14...</td>\n",
       "    </tr>\n",
       "    <tr>\n",
       "      <th>1</th>\n",
       "      <td>Retired customer</td>\n",
       "      <td>[Midwest, Northeast, South, West]</td>\n",
       "      <td>[11, 13, 14]</td>\n",
       "    </tr>\n",
       "    <tr>\n",
       "      <th>2</th>\n",
       "      <td>Single young adult</td>\n",
       "      <td>[Midwest, Northeast, South, West]</td>\n",
       "      <td>[1, 5, 19]</td>\n",
       "    </tr>\n",
       "    <tr>\n",
       "      <th>3</th>\n",
       "      <td>Young parent</td>\n",
       "      <td>[Midwest, Northeast, South, West]</td>\n",
       "      <td>[1, 2, 3, 4, 5, 6, 7, 8, 9, 10, 11, 12, 13, 14...</td>\n",
       "    </tr>\n",
       "    <tr>\n",
       "      <th>4</th>\n",
       "      <td>Young professional</td>\n",
       "      <td>[Midwest, Northeast, South, West]</td>\n",
       "      <td>[11, 13, 14]</td>\n",
       "    </tr>\n",
       "  </tbody>\n",
       "</table>\n",
       "</div>"
      ],
      "text/plain": [
       "              profile                            regions  \\\n",
       "0               Other  [Midwest, Northeast, South, West]   \n",
       "1    Retired customer  [Midwest, Northeast, South, West]   \n",
       "2  Single young adult  [Midwest, Northeast, South, West]   \n",
       "3        Young parent  [Midwest, Northeast, South, West]   \n",
       "4  Young professional  [Midwest, Northeast, South, West]   \n",
       "\n",
       "                                         departments  \n",
       "0  [1, 2, 3, 4, 5, 6, 7, 8, 9, 10, 11, 12, 13, 14...  \n",
       "1                                       [11, 13, 14]  \n",
       "2                                         [1, 5, 19]  \n",
       "3  [1, 2, 3, 4, 5, 6, 7, 8, 9, 10, 11, 12, 13, 14...  \n",
       "4                                       [11, 13, 14]  "
      ]
     },
     "execution_count": 28,
     "metadata": {},
     "output_type": "execute_result"
    }
   ],
   "source": [
    "# Step 8 - Compare profiles\n",
    "profile_map = (ha_20.groupby('profile', as_index=False).agg(\n",
    "          regions = ('Region', lambda s: sorted(s.unique())),   \n",
    "          departments = ('department_id', lambda s: sorted(s.unique()))))\n",
    "\n",
    "profile_map.head()"
   ]
  },
  {
   "cell_type": "code",
   "execution_count": null,
   "id": "97c94683-e83d-4290-9efd-e72a6dc78125",
   "metadata": {},
   "outputs": [],
   "source": [
    "# Explanation: Customers with profiles \"Other\", and \"Young parent\" buy products for more depaartments\n",
    "  # Retired customers and young professionals shop from the same departments"
   ]
  },
  {
   "cell_type": "code",
   "execution_count": null,
   "id": "35351e32-4d19-4537-8670-c32c758a81fd",
   "metadata": {},
   "outputs": [],
   "source": [
    "# Step 9 - Charts"
   ]
  },
  {
   "cell_type": "code",
   "execution_count": 36,
   "id": "1b7d84ba-27e2-498e-b89f-82ee103e80a8",
   "metadata": {},
   "outputs": [
    {
     "data": {
      "image/png": "[encoded data removed]",
      "text/plain": [
       "<Figure size 640x480 with 1 Axes>"
      ]
     },
     "metadata": {},
     "output_type": "display_data"
    }
   ],
   "source": [
    "# Expenditure per customer profile\n",
    "exp_profile = sns.lineplot(data = ha_20, x = 'profile',y = 'prices')"
   ]
  },
  {
   "cell_type": "code",
   "execution_count": 37,
   "id": "cc8949da-02f5-47cc-93ef-2ef284d230ff",
   "metadata": {},
   "outputs": [],
   "source": [
    "# Export line chart\n",
    "exp_profile.figure.savefig(r'C:/Users/ab-fv/OneDrive/Documentos/Instacart Basket Analysis/04 Analysis/Visualizations/exp_profile.png')"
   ]
  },
  {
   "cell_type": "code",
   "execution_count": 39,
   "id": "85beb6dc-e9ac-43b8-9f21-cca0692c4f27",
   "metadata": {},
   "outputs": [
    {
     "data": {
      "text/plain": [
       "<Axes: xlabel='profile', ylabel='department_id'>"
      ]
     },
     "execution_count": 39,
     "metadata": {},
     "output_type": "execute_result"
    },
    {
     "data": {
      "image/png": "[encoded data removed]",
      "text/plain": [
       "<Figure size 640x480 with 1 Axes>"
      ]
     },
     "metadata": {},
     "output_type": "display_data"
    }
   ],
   "source": [
    "# Link profile and department\n",
    "sns.scatterplot(x = 'profile', y = 'department_id',data = ha_20)"
   ]
  },
  {
   "cell_type": "code",
   "execution_count": 41,
   "id": "73c00072-2391-4159-835f-70d07fd016c7",
   "metadata": {},
   "outputs": [
    {
     "data": {
      "text/plain": [
       "<Figure size 640x480 with 0 Axes>"
      ]
     },
     "metadata": {},
     "output_type": "display_data"
    }
   ],
   "source": [
    "# Export scatterplot\n",
    "plt.savefig(r'C:/Users/ab-fv/OneDrive/Documentos/Instacart Basket Analysis/04 Analysis/Visualizations/dept_profile.png')"
   ]
  },
  {
   "cell_type": "code",
   "execution_count": 44,
   "id": "3eca7b4f-5d5c-4ffb-b0af-8b8827f9e2e4",
   "metadata": {},
   "outputs": [
    {
     "data": {
      "image/png": "[encoded data removed]",
      "text/plain": [
       "<Figure size 640x480 with 1 Axes>"
      ]
     },
     "metadata": {},
     "output_type": "display_data"
    }
   ],
   "source": [
    "# Expenditure per age\n",
    "exp_age = sns.lineplot(data = ha_20, x = 'Age',y = 'prices')"
   ]
  },
  {
   "cell_type": "code",
   "execution_count": 45,
   "id": "e6b72465-2c21-416b-b8a9-2563fc67105e",
   "metadata": {},
   "outputs": [],
   "source": [
    "# Export line\n",
    "exp_age.figure.savefig(r'C:/Users/ab-fv/OneDrive/Documentos/Instacart Basket Analysis/04 Analysis/Visualizations/exp_age.png')"
   ]
  },
  {
   "cell_type": "code",
   "execution_count": null,
   "id": "ea01f818-0b6d-4381-9a02-e55dffb874f0",
   "metadata": {},
   "outputs": [],
   "source": []
  }
 ],
 "metadata": {
  "kernelspec": {
   "display_name": "Python 3 (ipykernel)",
   "language": "python",
   "name": "python3"
  },
  "language_info": {
   "codemirror_mode": {
    "name": "ipython",
    "version": 3
   },
   "file_extension": ".py",
   "mimetype": "text/x-python",
   "name": "python",
   "nbconvert_exporter": "python",
   "pygments_lexer": "ipython3",
   "version": "3.12.7"
  }
 },
 "nbformat": 4,
 "nbformat_minor": 5
}
