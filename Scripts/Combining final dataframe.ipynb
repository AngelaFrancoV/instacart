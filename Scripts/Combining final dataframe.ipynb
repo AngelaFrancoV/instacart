{
 "cells": [
  {
   "cell_type": "code",
   "execution_count": 5,
   "id": "98277aa4-1790-4e90-8065-ba953ea64ac8",
   "metadata": {},
   "outputs": [],
   "source": [
    "# Import libraries\n",
    "import pandas as pd\n",
    "import numpy as np\n",
    "import os"
   ]
  },
  {
   "cell_type": "code",
   "execution_count": 2,
   "id": "e1a421a6-ce07-4726-8f17-2021a821029c",
   "metadata": {},
   "outputs": [],
   "source": [
    "# Import customer dataset\n",
    "df_customer = pd.read_csv(r'C:/Users/ab-fv/OneDrive/Documentos/Instacart Basket Analysis/02 Data/Original Data/customers.csv', index_col = False)"
   ]
  },
  {
   "cell_type": "code",
   "execution_count": null,
   "id": "6409e826-e200-4c8c-b193-bb31393d62a4",
   "metadata": {},
   "outputs": [],
   "source": [
    "# Step 4 - Data wrangling"
   ]
  },
  {
   "cell_type": "code",
   "execution_count": 3,
   "id": "8a753116-0ad0-4b63-b64a-d9c842ce8b68",
   "metadata": {},
   "outputs": [
    {
     "data": {
      "text/plain": [
       "Index(['user_id', 'First Name', 'Surnam', 'Gender', 'STATE', 'Age',\n",
       "       'date_joined', 'n_dependants', 'fam_status', 'income'],\n",
       "      dtype='object')"
      ]
     },
     "execution_count": 3,
     "metadata": {},
     "output_type": "execute_result"
    }
   ],
   "source": [
    "df_customer.columns"
   ]
  },
  {
   "cell_type": "code",
   "execution_count": 4,
   "id": "89561021-6603-4efa-95ed-3dce488b0ea6",
   "metadata": {},
   "outputs": [
    {
     "data": {
      "text/html": [
       "<div>\n",
       "<style scoped>\n",
       "    .dataframe tbody tr th:only-of-type {\n",
       "        vertical-align: middle;\n",
       "    }\n",
       "\n",
       "    .dataframe tbody tr th {\n",
       "        vertical-align: top;\n",
       "    }\n",
       "\n",
       "    .dataframe thead th {\n",
       "        text-align: right;\n",
       "    }\n",
       "</style>\n",
       "<table border=\"1\" class=\"dataframe\">\n",
       "  <thead>\n",
       "    <tr style=\"text-align: right;\">\n",
       "      <th></th>\n",
       "      <th>user_id</th>\n",
       "      <th>First Name</th>\n",
       "      <th>Surnam</th>\n",
       "      <th>Gender</th>\n",
       "      <th>STATE</th>\n",
       "      <th>Age</th>\n",
       "      <th>date_joined</th>\n",
       "      <th>n_dependants</th>\n",
       "      <th>fam_status</th>\n",
       "      <th>income</th>\n",
       "    </tr>\n",
       "  </thead>\n",
       "  <tbody>\n",
       "    <tr>\n",
       "      <th>0</th>\n",
       "      <td>26711</td>\n",
       "      <td>Deborah</td>\n",
       "      <td>Esquivel</td>\n",
       "      <td>Female</td>\n",
       "      <td>Missouri</td>\n",
       "      <td>48</td>\n",
       "      <td>1/1/2017</td>\n",
       "      <td>3</td>\n",
       "      <td>married</td>\n",
       "      <td>165665</td>\n",
       "    </tr>\n",
       "    <tr>\n",
       "      <th>1</th>\n",
       "      <td>33890</td>\n",
       "      <td>Patricia</td>\n",
       "      <td>Hart</td>\n",
       "      <td>Female</td>\n",
       "      <td>New Mexico</td>\n",
       "      <td>36</td>\n",
       "      <td>1/1/2017</td>\n",
       "      <td>0</td>\n",
       "      <td>single</td>\n",
       "      <td>59285</td>\n",
       "    </tr>\n",
       "    <tr>\n",
       "      <th>2</th>\n",
       "      <td>65803</td>\n",
       "      <td>Kenneth</td>\n",
       "      <td>Farley</td>\n",
       "      <td>Male</td>\n",
       "      <td>Idaho</td>\n",
       "      <td>35</td>\n",
       "      <td>1/1/2017</td>\n",
       "      <td>2</td>\n",
       "      <td>married</td>\n",
       "      <td>99568</td>\n",
       "    </tr>\n",
       "    <tr>\n",
       "      <th>3</th>\n",
       "      <td>125935</td>\n",
       "      <td>Michelle</td>\n",
       "      <td>Hicks</td>\n",
       "      <td>Female</td>\n",
       "      <td>Iowa</td>\n",
       "      <td>40</td>\n",
       "      <td>1/1/2017</td>\n",
       "      <td>0</td>\n",
       "      <td>single</td>\n",
       "      <td>42049</td>\n",
       "    </tr>\n",
       "    <tr>\n",
       "      <th>4</th>\n",
       "      <td>130797</td>\n",
       "      <td>Ann</td>\n",
       "      <td>Gilmore</td>\n",
       "      <td>Female</td>\n",
       "      <td>Maryland</td>\n",
       "      <td>26</td>\n",
       "      <td>1/1/2017</td>\n",
       "      <td>1</td>\n",
       "      <td>married</td>\n",
       "      <td>40374</td>\n",
       "    </tr>\n",
       "  </tbody>\n",
       "</table>\n",
       "</div>"
      ],
      "text/plain": [
       "   user_id First Name    Surnam  Gender       STATE  Age date_joined  \\\n",
       "0    26711    Deborah  Esquivel  Female    Missouri   48    1/1/2017   \n",
       "1    33890   Patricia      Hart  Female  New Mexico   36    1/1/2017   \n",
       "2    65803    Kenneth    Farley    Male       Idaho   35    1/1/2017   \n",
       "3   125935   Michelle     Hicks  Female        Iowa   40    1/1/2017   \n",
       "4   130797        Ann   Gilmore  Female    Maryland   26    1/1/2017   \n",
       "\n",
       "   n_dependants fam_status  income  \n",
       "0             3    married  165665  \n",
       "1             0     single   59285  \n",
       "2             2    married   99568  \n",
       "3             0     single   42049  \n",
       "4             1    married   40374  "
      ]
     },
     "execution_count": 4,
     "metadata": {},
     "output_type": "execute_result"
    }
   ],
   "source": [
    "df_customer.head()"
   ]
  },
  {
   "cell_type": "code",
   "execution_count": 6,
   "id": "40356350-1d05-48ac-8499-3c23051e97fe",
   "metadata": {},
   "outputs": [
    {
     "data": {
      "text/plain": [
       "user_id             0\n",
       "First Name      11259\n",
       "Surnam              0\n",
       "Gender              0\n",
       "STATE               0\n",
       "Age                 0\n",
       "date_joined         0\n",
       "n_dependants        0\n",
       "fam_status          0\n",
       "income              0\n",
       "dtype: int64"
      ]
     },
     "execution_count": 6,
     "metadata": {},
     "output_type": "execute_result"
    }
   ],
   "source": [
    "df_customer.isnull().sum()"
   ]
  },
  {
   "cell_type": "code",
   "execution_count": 9,
   "id": "21e7b97a-71d5-40a4-9e66-0424f1604571",
   "metadata": {},
   "outputs": [],
   "source": [
    "# Dropping First Name column, as it has many missing values\n",
    "df_customer = df_customer.drop(columns = ['First Name'])"
   ]
  },
  {
   "cell_type": "code",
   "execution_count": 10,
   "id": "86ec6ba4-a69f-44f7-a6f8-b34cb36cb765",
   "metadata": {},
   "outputs": [],
   "source": [
    "# Renaming column Surnam\n",
    "df_customer.rename(columns = {'Surnam' : 'Surname'}, inplace = True)"
   ]
  },
  {
   "cell_type": "code",
   "execution_count": 14,
   "id": "a8a02417-b5e1-4d07-9b52-41b83603bbaa",
   "metadata": {},
   "outputs": [
    {
     "data": {
      "text/html": [
       "<div>\n",
       "<style scoped>\n",
       "    .dataframe tbody tr th:only-of-type {\n",
       "        vertical-align: middle;\n",
       "    }\n",
       "\n",
       "    .dataframe tbody tr th {\n",
       "        vertical-align: top;\n",
       "    }\n",
       "\n",
       "    .dataframe thead th {\n",
       "        text-align: right;\n",
       "    }\n",
       "</style>\n",
       "<table border=\"1\" class=\"dataframe\">\n",
       "  <thead>\n",
       "    <tr style=\"text-align: right;\">\n",
       "      <th></th>\n",
       "      <th>user_id</th>\n",
       "      <th>Surname</th>\n",
       "      <th>Gender</th>\n",
       "      <th>STATE</th>\n",
       "      <th>Age</th>\n",
       "      <th>date_joined</th>\n",
       "      <th>n_dependants</th>\n",
       "      <th>fam_status</th>\n",
       "      <th>income</th>\n",
       "    </tr>\n",
       "  </thead>\n",
       "  <tbody>\n",
       "  </tbody>\n",
       "</table>\n",
       "</div>"
      ],
      "text/plain": [
       "Empty DataFrame\n",
       "Columns: [user_id, Surname, Gender, STATE, Age, date_joined, n_dependants, fam_status, income]\n",
       "Index: []"
      ]
     },
     "execution_count": 14,
     "metadata": {},
     "output_type": "execute_result"
    }
   ],
   "source": [
    "# Step 5 - Data check\n",
    " # Duplicates check\n",
    "f_dups = df_customer[df_customer.duplicated()]\n",
    "f_dups"
   ]
  },
  {
   "cell_type": "code",
   "execution_count": 15,
   "id": "719a3259-3f56-4c20-a187-41ead1039df8",
   "metadata": {},
   "outputs": [
    {
     "data": {
      "text/plain": [
       "user_id          int64\n",
       "Surname         object\n",
       "Gender          object\n",
       "STATE           object\n",
       "Age              int64\n",
       "date_joined     object\n",
       "n_dependants     int64\n",
       "fam_status      object\n",
       "income           int64\n",
       "dtype: object"
      ]
     },
     "execution_count": 15,
     "metadata": {},
     "output_type": "execute_result"
    }
   ],
   "source": [
    "# Data type check\n",
    "df_customer.dtypes"
   ]
  },
  {
   "cell_type": "code",
   "execution_count": null,
   "id": "a13198c9-64f4-4fa3-be7d-40fd65f39b66",
   "metadata": {},
   "outputs": [],
   "source": [
    "# Step 6 - Combine dataframes"
   ]
  },
  {
   "cell_type": "code",
   "execution_count": 16,
   "id": "b1deb59d-1a91-4c37-9f59-07b36373b356",
   "metadata": {},
   "outputs": [],
   "source": [
    "# Import Instacart dataframe\n",
    "ords_prods_merge = pd.read_pickle(r'C:/Users/ab-fv/OneDrive/Documentos/Instacart Basket Analysis/02 Data/Prepared Data/ords_prods_flags.pkl')"
   ]
  },
  {
   "cell_type": "code",
   "execution_count": 17,
   "id": "bcd931b3-892f-4c2a-b27e-b9a6ce4dedbf",
   "metadata": {},
   "outputs": [],
   "source": [
    "# Merge\n",
    "df_cus_insta = ords_prods_merge.merge(df_customer, on = 'user_id')"
   ]
  },
  {
   "cell_type": "code",
   "execution_count": 18,
   "id": "8640cff5-72a7-4bc4-bf08-edae8ceb36a2",
   "metadata": {},
   "outputs": [
    {
     "name": "stdout",
     "output_type": "stream",
     "text": [
      "<class 'pandas.core.frame.DataFrame'>\n",
      "RangeIndex: 32404859 entries, 0 to 32404858\n",
      "Data columns (total 30 columns):\n",
      " #   Column                  Dtype  \n",
      "---  ------                  -----  \n",
      " 0   order_id                int64  \n",
      " 1   user_id                 int64  \n",
      " 2   order_number            int64  \n",
      " 3   orders_day_of_week      int64  \n",
      " 4   order_hour_of_day       int64  \n",
      " 5   days_since_prior_order  float64\n",
      " 6   first_order             bool   \n",
      " 7   product_id              int64  \n",
      " 8   add_to_cart_order       int64  \n",
      " 9   reordered               int64  \n",
      " 10  product_name            object \n",
      " 11  aisle_id                int64  \n",
      " 12  department_id           int64  \n",
      " 13  prices                  float64\n",
      " 14  busiest_day             object \n",
      " 15  Busiest_days            object \n",
      " 16  busiest_period_loc      object \n",
      " 17  max_order               int64  \n",
      " 18  loyalty_flag            object \n",
      " 19  avg_price               float64\n",
      " 20  avg_days                float64\n",
      " 21  frequency_flag          object \n",
      " 22  Surname                 object \n",
      " 23  Gender                  object \n",
      " 24  STATE                   object \n",
      " 25  Age                     int64  \n",
      " 26  date_joined             object \n",
      " 27  n_dependants            int64  \n",
      " 28  fam_status              object \n",
      " 29  income                  int64  \n",
      "dtypes: bool(1), float64(4), int64(14), object(11)\n",
      "memory usage: 7.0+ GB\n"
     ]
    }
   ],
   "source": [
    "df_cus_insta.info()"
   ]
  },
  {
   "cell_type": "code",
   "execution_count": 19,
   "id": "53588af9-bdd6-4242-a33e-e34ff5a2f869",
   "metadata": {},
   "outputs": [],
   "source": [
    "# Esport new dataframe\n",
    "df_cus_insta.to_pickle(r'C:/Users/ab-fv/OneDrive/Documentos/Instacart Basket Analysis/02 Data/Prepared Data/mega_dataframe.pkl')"
   ]
  },
  {
   "cell_type": "code",
   "execution_count": null,
   "id": "ce40b557-a642-4d3a-b9f6-dcb848a129ab",
   "metadata": {},
   "outputs": [],
   "source": []
  },
  {
   "cell_type": "code",
   "execution_count": null,
   "id": "8601355c-15ef-473f-8c52-fa3af21e43e7",
   "metadata": {},
   "outputs": [],
   "source": []
  }
 ],
 "metadata": {
  "kernelspec": {
   "display_name": "Python 3 (ipykernel)",
   "language": "python",
   "name": "python3"
  },
  "language_info": {
   "codemirror_mode": {
    "name": "ipython",
    "version": 3
   },
   "file_extension": ".py",
   "mimetype": "text/x-python",
   "name": "python",
   "nbconvert_exporter": "python",
   "pygments_lexer": "ipython3",
   "version": "3.12.7"
  }
 },
 "nbformat": 4,
 "nbformat_minor": 5
}
